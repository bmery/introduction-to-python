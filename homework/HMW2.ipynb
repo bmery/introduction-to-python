{
 "cells": [
  {
   "cell_type": "code",
   "execution_count": 1,
   "metadata": {},
   "outputs": [
    {
     "name": "stdout",
     "output_type": "stream",
     "text": [
      "Please enter your username merve\n",
      "Please enter your password 123\n",
      "Welcome merve\n"
     ]
    }
   ],
   "source": [
    "user_pass = {\"merve\" : \"123\", \"aylin\" : \"124\"}\n",
    "\n",
    "while True:\n",
    "    user = input(\"Please enter your username \")\n",
    "    pwd = input(\"Please enter your password \")\n",
    "\n",
    "    if user in user_pass and pwd == user_pass[user]:\n",
    "        print(\"Welcome\", user)\n",
    "        break\n",
    "    else:\n",
    "        user_pass[user]=pwd\n",
    "        print(\"registration not completed,please login \")\n"
   ]
  }
 ],
 "metadata": {
  "kernelspec": {
   "display_name": "Python 3",
   "language": "python",
   "name": "python3"
  },
  "language_info": {
   "codemirror_mode": {
    "name": "ipython",
    "version": 3
   },
   "file_extension": ".py",
   "mimetype": "text/x-python",
   "name": "python",
   "nbconvert_exporter": "python",
   "pygments_lexer": "ipython3",
   "version": "3.7.6"
  }
 },
 "nbformat": 4,
 "nbformat_minor": 4
}
