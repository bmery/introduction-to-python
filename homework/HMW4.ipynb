{
 "cells": [
  {
   "cell_type": "code",
   "execution_count": 8,
   "metadata": {},
   "outputs": [
    {
     "name": "stdout",
     "output_type": "stream",
     "text": [
      "The name of animal is: Dog\n",
      "The lifespan is: 10-13\n",
      "The lifeplace is: house\n",
      "The type of specie is: carnivore mammal\n",
      "The name of animal is: cat\n",
      "The lifespan is: 2-16\n",
      "The lifeplace is: house\n",
      "The type of specie is: carnivorous mammal\n"
     ]
    }
   ],
   "source": [
    "#creating parent class\n",
    "class Animal:\n",
    "    #initialization function\n",
    "    #initilization the animal name,and specie type\n",
    "    def __init__(self,name,age,area,specie_type):\n",
    "        self.name=name\n",
    "        self.age=age\n",
    "        self.area=area\n",
    "        self.specie_type=specie_type\n",
    "    def printname(self):\n",
    "        print(\"The name of animal is:\",self.name)\n",
    "    def printage(self):\n",
    "        print(\"The lifespan is:\",self.age)\n",
    "    def printarea(self):\n",
    "        print(\"The lifeplace is:\",self.area)\n",
    "    def printspecie(self):\n",
    "        print(\"The type of specie is:\",self.specie_type)\n",
    "#creating the dog class as child class of animal class\n",
    "class Dog(Animal):\n",
    "    # no extension or modification\n",
    "    pass\n",
    "#now dog class have access to all the functions and properties of animal class\n",
    "#creating the dog class object\n",
    "dogObj= Dog(\"Dog\",\"10-13\",\"house\",\"carnivore mammal\")\n",
    "dogObj.printname()\n",
    "dogObj.printage()\n",
    "dogObj.printarea()\n",
    "dogObj.printspecie()\n",
    "#creating the cat class as child class of animal class\n",
    "class Cat(Animal):\n",
    "   #the initilization function of cat class\n",
    "   def __init__(self):\n",
    "       #calling and using the animal class initilization function\n",
    "       Animal.__init__(self,\"cat\",\"2-16\",\"house\",\"carnivorous mammal\")\n",
    "#now cat class have access to all the functions and properties of animal class\n",
    "#creating the cat class object\n",
    "catObj= Cat()\n",
    "catObj.printname()\n",
    "catObj.printage()\n",
    "catObj.printarea()\n",
    "catObj.printspecie()"
   ]
  }
 ],
 "metadata": {
  "kernelspec": {
   "display_name": "Python 3",
   "language": "python",
   "name": "python3"
  },
  "language_info": {
   "codemirror_mode": {
    "name": "ipython",
    "version": 3
   },
   "file_extension": ".py",
   "mimetype": "text/x-python",
   "name": "python",
   "nbconvert_exporter": "python",
   "pygments_lexer": "ipython3",
   "version": "3.7.6"
  }
 },
 "nbformat": 4,
 "nbformat_minor": 4
}
