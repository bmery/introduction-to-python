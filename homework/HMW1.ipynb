{
 "cells": [
  {
   "cell_type": "code",
   "execution_count": 32,
   "metadata": {},
   "outputs": [
    {
     "name": "stdout",
     "output_type": "stream",
     "text": [
      "['d', 'e', 'a', 'b', 'c']\n"
     ]
    }
   ],
   "source": [
    "mylist=['a','b','c','d','e']\n",
    "newlist=[]\n",
    "if len(mylist) %2==0 :\n",
    "    s=(len(mylist)/2)\n",
    "else :\n",
    "    s=((len(mylist)+1)/2)\n",
    "for item in mylist[int(s):]:\n",
    "    newlist.append(item)\n",
    "for item in mylist[:int(s)]:\n",
    "    newlist.append(item)\n",
    "print(newlist)"
   ]
  },
  {
   "cell_type": "code",
   "execution_count": 40,
   "metadata": {},
   "outputs": [
    {
     "name": "stdout",
     "output_type": "stream",
     "text": [
      "Please enter single digit integer 5\n",
      "1\n",
      "3\n"
     ]
    }
   ],
   "source": [
    "\n",
    "n =input(\"Please enter single digit integer:\")\n",
    "for i in range(0, int(n)):\n",
    "    if i%2==0:\n",
    "        i=i+1\n",
    "    else:\n",
    "        print(i)"
   ]
  }
 ],
 "metadata": {
  "kernelspec": {
   "display_name": "Python 3",
   "language": "python",
   "name": "python3"
  },
  "language_info": {
   "codemirror_mode": {
    "name": "ipython",
    "version": 3
   },
   "file_extension": ".py",
   "mimetype": "text/x-python",
   "name": "python",
   "nbconvert_exporter": "python",
   "pygments_lexer": "ipython3",
   "version": "3.7.6"
  }
 },
 "nbformat": 4,
 "nbformat_minor": 4
}
